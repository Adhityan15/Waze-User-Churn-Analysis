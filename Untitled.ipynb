{
 "cells": [
  {
   "cell_type": "code",
   "execution_count": 26,
   "id": "48eaa0a1-70bf-4465-9955-b6ac040c2912",
   "metadata": {},
   "outputs": [],
   "source": [
    "#import libraries needed\n",
    "import pandas as pd\n",
    "import numpy as np\n"
   ]
  },
  {
   "cell_type": "code",
   "execution_count": 27,
   "id": "4b91c3f3-1f7e-4a79-acb1-4ad57b431a73",
   "metadata": {},
   "outputs": [
    {
     "name": "stdout",
     "output_type": "stream",
     "text": [
      "loaded succesfully\n"
     ]
    }
   ],
   "source": [
    "# Load dataset\n",
    "df = pd.read_csv(\"waze_dataset.csv\")\n",
    "print(\"loaded succesfully\")"
   ]
  },
  {
   "cell_type": "code",
   "execution_count": 28,
   "id": "7bf57b34-c2f4-4157-9688-4b1373ee6b04",
   "metadata": {},
   "outputs": [],
   "source": [
    "# Inspect first 10 rows\n",
    "head_data = df.head(10)"
   ]
  },
  {
   "cell_type": "code",
   "execution_count": 29,
   "id": "4becd611-8738-4301-94e2-f6b05e5083ab",
   "metadata": {},
   "outputs": [
    {
     "name": "stdout",
     "output_type": "stream",
     "text": [
      "<class 'pandas.core.frame.DataFrame'>\n",
      "RangeIndex: 14999 entries, 0 to 14998\n",
      "Data columns (total 13 columns):\n",
      " #   Column                   Non-Null Count  Dtype  \n",
      "---  ------                   --------------  -----  \n",
      " 0   ID                       14999 non-null  int64  \n",
      " 1   label                    14299 non-null  object \n",
      " 2   sessions                 14999 non-null  int64  \n",
      " 3   drives                   14999 non-null  int64  \n",
      " 4   total_sessions           14999 non-null  float64\n",
      " 5   n_days_after_onboarding  14999 non-null  int64  \n",
      " 6   total_navigations_fav1   14999 non-null  int64  \n",
      " 7   total_navigations_fav2   14999 non-null  int64  \n",
      " 8   driven_km_drives         14999 non-null  float64\n",
      " 9   duration_minutes_drives  14999 non-null  float64\n",
      " 10  activity_days            14999 non-null  int64  \n",
      " 11  driving_days             14999 non-null  int64  \n",
      " 12  device                   14999 non-null  object \n",
      "dtypes: float64(3), int64(8), object(2)\n",
      "memory usage: 1.5+ MB\n"
     ]
    }
   ],
   "source": [
    "# Summary info\n",
    "info_data = df.info()"
   ]
  },
  {
   "cell_type": "code",
   "execution_count": 30,
   "id": "5adca152-c853-4eb2-86da-1419ce63964e",
   "metadata": {},
   "outputs": [],
   "source": [
    "# Check for missing values\n",
    "missing_values = df.isnull().sum()"
   ]
  },
  {
   "cell_type": "code",
   "execution_count": 31,
   "id": "8ecaaf55-2aee-4796-b820-c4a2b85d8934",
   "metadata": {},
   "outputs": [],
   "source": [
    "# Isolate rows with null values\n",
    "null_rows = df[df.isnull().any(axis=1)]\n",
    "null_summary = null_rows.describe()"
   ]
  },
  {
   "cell_type": "code",
   "execution_count": 32,
   "id": "cfa9431b-2611-413e-a8ab-dcd3a51052c5",
   "metadata": {},
   "outputs": [],
   "source": [
    "# Isolate rows without null values\n",
    "non_null_rows = df.dropna()\n",
    "non_null_summary = non_null_rows.describe()"
   ]
  },
  {
   "cell_type": "code",
   "execution_count": 33,
   "id": "034a69aa-c5dc-4f20-b227-e6f61899dc41",
   "metadata": {},
   "outputs": [],
   "source": [
    "\n",
    "# Count of nulls by device\n",
    "null_by_device = null_rows['device'].value_counts()"
   ]
  },
  {
   "cell_type": "code",
   "execution_count": 34,
   "id": "7eb67765-eae2-4f46-a90f-a2c2c9b6bb7b",
   "metadata": {},
   "outputs": [],
   "source": [
    "# Percentages of nulls by device\n",
    "null_percent_by_device = null_rows['device'].value_counts(normalize=True) * 100\n",
    "\n",
    "# Percentages in full dataset\n",
    "full_percent_by_device = df['device'].value_counts(normalize=True) * 100"
   ]
  },
  {
   "cell_type": "code",
   "execution_count": 35,
   "id": "20fce7f5-bdf5-40b2-8292-db6134559fc1",
   "metadata": {},
   "outputs": [],
   "source": [
    "\n",
    "# Count of churned vs retained\n",
    "label_counts = df['label'].value_counts(normalize=False)\n",
    "label_percentages = df['label'].value_counts(normalize=True) * 100"
   ]
  },
  {
   "cell_type": "code",
   "execution_count": 36,
   "id": "8069e3b8-fd35-44df-8907-2bbd662f6b70",
   "metadata": {},
   "outputs": [],
   "source": [
    "# Median values for churned vs retained users\n",
    "median_comparison = df.groupby('label').median(numeric_only=True)"
   ]
  },
  {
   "cell_type": "code",
   "execution_count": 37,
   "id": "bdeda879-50cd-450f-8858-f9ecb655a050",
   "metadata": {},
   "outputs": [],
   "source": [
    "# Add km_per_drive\n",
    "df[\"km_per_drive\"] = df[\"driven_km_drives\"] / df[\"drives\"]\n",
    "km_per_drive_median = df.groupby('label')[\"km_per_drive\"].median()\n",
    "\n",
    "# Add km_per_driving_day\n",
    "df[\"km_per_driving_day\"] = df[\"driven_km_drives\"] / df[\"driving_days\"]\n",
    "km_per_day_median = df.groupby('label')[\"km_per_driving_day\"].median()"
   ]
  },
  {
   "cell_type": "code",
   "execution_count": 38,
   "id": "bf73d724-4996-42cf-9d99-663262f362c0",
   "metadata": {},
   "outputs": [],
   "source": [
    "# Add drives_per_driving_day\n",
    "df[\"drives_per_driving_day\"] = df[\"drives\"] / df[\"driving_days\"]\n",
    "drives_per_day_median = df.groupby('label')[\"drives_per_driving_day\"].median()"
   ]
  },
  {
   "cell_type": "code",
   "execution_count": 39,
   "id": "cac7b57e-c71d-4c69-b476-f057dbe0d652",
   "metadata": {},
   "outputs": [],
   "source": [
    "# Count device types by churn label\n",
    "device_counts_by_label = df.groupby(\"label\")[\"device\"].value_counts()"
   ]
  },
  {
   "cell_type": "code",
   "execution_count": 40,
   "id": "39e55907-d768-413e-aa1f-08a9ffc16bd4",
   "metadata": {},
   "outputs": [],
   "source": [
    "\n",
    "# Percent device types within each label\n",
    "device_percent_by_label = df.groupby(\"label\")[\"device\"].value_counts(normalize=True) * 100"
   ]
  },
  {
   "cell_type": "code",
   "execution_count": 41,
   "id": "9def0820-d393-4864-a1a8-702f30fb37ea",
   "metadata": {},
   "outputs": [
    {
     "data": {
      "text/plain": [
       "(   ID     label  sessions  drives  total_sessions  n_days_after_onboarding  \\\n",
       " 0   0  retained       283     226      296.748273                     2276   \n",
       " 1   1  retained       133     107      326.896596                     1225   \n",
       " 2   2  retained       114      95      135.522926                     2651   \n",
       " 3   3  retained        49      40       67.589221                       15   \n",
       " 4   4  retained        84      68      168.247020                     1562   \n",
       " 5   5  retained       113     103      279.544437                     2637   \n",
       " 6   6  retained         3       2      236.725314                      360   \n",
       " 7   7  retained        39      35      176.072845                     2999   \n",
       " 8   8  retained        57      46      183.532018                      424   \n",
       " 9   9   churned        84      68      244.802115                     2997   \n",
       " \n",
       "    total_navigations_fav1  total_navigations_fav2  driven_km_drives  \\\n",
       " 0                     208                       0       2628.845068   \n",
       " 1                      19                      64      13715.920550   \n",
       " 2                       0                       0       3059.148818   \n",
       " 3                     322                       7        913.591123   \n",
       " 4                     166                       5       3950.202008   \n",
       " 5                       0                       0        901.238699   \n",
       " 6                     185                      18       5249.172828   \n",
       " 7                       0                       0       7892.052468   \n",
       " 8                       0                      26       2651.709764   \n",
       " 9                      72                       0       6043.460295   \n",
       " \n",
       "    duration_minutes_drives  activity_days  driving_days   device  \n",
       " 0              1985.775061             28            19  Android  \n",
       " 1              3160.472914             13            11   iPhone  \n",
       " 2              1610.735904             14             8  Android  \n",
       " 3               587.196542              7             3   iPhone  \n",
       " 4              1219.555924             27            18  Android  \n",
       " 5               439.101397             15            11   iPhone  \n",
       " 6               726.577205             28            23   iPhone  \n",
       " 7              2466.981741             22            20   iPhone  \n",
       " 8              1594.342984             25            20  Android  \n",
       " 9              2341.838528              7             3   iPhone  ,\n",
       " ID                           0\n",
       " label                      700\n",
       " sessions                     0\n",
       " drives                       0\n",
       " total_sessions               0\n",
       " n_days_after_onboarding      0\n",
       " total_navigations_fav1       0\n",
       " total_navigations_fav2       0\n",
       " driven_km_drives             0\n",
       " duration_minutes_drives      0\n",
       " activity_days                0\n",
       " driving_days                 0\n",
       " device                       0\n",
       " dtype: int64,\n",
       "                  ID    sessions      drives  total_sessions  \\\n",
       " count    700.000000  700.000000  700.000000      700.000000   \n",
       " mean    7405.584286   80.837143   67.798571      198.483348   \n",
       " std     4306.900234   79.987440   65.271926      140.561715   \n",
       " min       77.000000    0.000000    0.000000        5.582648   \n",
       " 25%     3744.500000   23.000000   20.000000       94.056340   \n",
       " 50%     7443.000000   56.000000   47.500000      177.255925   \n",
       " 75%    11007.000000  112.250000   94.000000      266.058022   \n",
       " max    14993.000000  556.000000  445.000000     1076.879741   \n",
       " \n",
       "        n_days_after_onboarding  total_navigations_fav1  \\\n",
       " count               700.000000              700.000000   \n",
       " mean               1709.295714              118.717143   \n",
       " std                1005.306562              156.308140   \n",
       " min                  16.000000                0.000000   \n",
       " 25%                 869.000000                4.000000   \n",
       " 50%                1650.500000               62.500000   \n",
       " 75%                2508.750000              169.250000   \n",
       " max                3498.000000             1096.000000   \n",
       " \n",
       "        total_navigations_fav2  driven_km_drives  duration_minutes_drives  \\\n",
       " count              700.000000        700.000000               700.000000   \n",
       " mean                30.371429       3935.967029              1795.123358   \n",
       " std                 46.306984       2443.107121              1419.242246   \n",
       " min                  0.000000        290.119811                66.588493   \n",
       " 25%                  0.000000       2119.344818               779.009271   \n",
       " 50%                 10.000000       3421.156721              1414.966279   \n",
       " 75%                 43.000000       5166.097373              2443.955404   \n",
       " max                352.000000      15135.391280              9746.253023   \n",
       " \n",
       "        activity_days  driving_days  \n",
       " count     700.000000    700.000000  \n",
       " mean       15.382857     12.125714  \n",
       " std         8.772714      7.626373  \n",
       " min         0.000000      0.000000  \n",
       " 25%         8.000000      6.000000  \n",
       " 50%        15.000000     12.000000  \n",
       " 75%        23.000000     18.000000  \n",
       " max        31.000000     30.000000  ,\n",
       "                  ID      sessions        drives  total_sessions  \\\n",
       " count  14299.000000  14299.000000  14299.000000    14299.000000   \n",
       " mean    7503.573117     80.623820     67.255822      189.547409   \n",
       " std     4331.207621     80.736502     65.947295      136.189764   \n",
       " min        0.000000      0.000000      0.000000        0.220211   \n",
       " 25%     3749.500000     23.000000     20.000000       90.457733   \n",
       " 50%     7504.000000     56.000000     48.000000      158.718571   \n",
       " 75%    11257.500000    111.000000     93.000000      253.540450   \n",
       " max    14998.000000    743.000000    596.000000     1216.154633   \n",
       " \n",
       "        n_days_after_onboarding  total_navigations_fav1  \\\n",
       " count             14299.000000            14299.000000   \n",
       " mean               1751.822505              121.747395   \n",
       " std                1008.663834              147.713428   \n",
       " min                   4.000000                0.000000   \n",
       " 25%                 878.500000               10.000000   \n",
       " 50%                1749.000000               71.000000   \n",
       " 75%                2627.500000              178.000000   \n",
       " max                3500.000000             1236.000000   \n",
       " \n",
       "        total_navigations_fav2  driven_km_drives  duration_minutes_drives  \\\n",
       " count            14299.000000      14299.000000             14299.000000   \n",
       " mean                29.638296       4044.401535              1864.199794   \n",
       " std                 45.350890       2504.977970              1448.005047   \n",
       " min                  0.000000         60.441250                18.282082   \n",
       " 25%                  0.000000       2217.319909               840.181344   \n",
       " 50%                  9.000000       3496.545617              1479.394387   \n",
       " 75%                 43.000000       5299.972162              2466.928876   \n",
       " max                415.000000      21183.401890             15851.727160   \n",
       " \n",
       "        activity_days  driving_days  \n",
       " count   14299.000000  14299.000000  \n",
       " mean       15.544653     12.182530  \n",
       " std         9.016088      7.833835  \n",
       " min         0.000000      0.000000  \n",
       " 25%         8.000000      5.000000  \n",
       " 50%        16.000000     12.000000  \n",
       " 75%        23.000000     19.000000  \n",
       " max        31.000000     30.000000  ,\n",
       " device\n",
       " iPhone     447\n",
       " Android    253\n",
       " Name: count, dtype: int64,\n",
       " device\n",
       " iPhone     63.857143\n",
       " Android    36.142857\n",
       " Name: proportion, dtype: float64,\n",
       " device\n",
       " iPhone     64.484299\n",
       " Android    35.515701\n",
       " Name: proportion, dtype: float64,\n",
       " label\n",
       " retained    11763\n",
       " churned      2536\n",
       " Name: count, dtype: int64,\n",
       " label\n",
       " retained    82.264494\n",
       " churned     17.735506\n",
       " Name: proportion, dtype: float64,\n",
       "               ID  sessions  drives  total_sessions  n_days_after_onboarding  \\\n",
       " label                                                                         \n",
       " churned   7477.5      59.0    50.0      164.339042                   1321.0   \n",
       " retained  7509.0      56.0    47.0      157.586756                   1843.0   \n",
       " \n",
       "           total_navigations_fav1  total_navigations_fav2  driven_km_drives  \\\n",
       " label                                                                        \n",
       " churned                     84.5                    11.0       3652.655666   \n",
       " retained                    68.0                     9.0       3464.684614   \n",
       " \n",
       "           duration_minutes_drives  activity_days  driving_days  \n",
       " label                                                           \n",
       " churned               1607.183785            8.0           6.0  \n",
       " retained              1458.046141           17.0          14.0  ,\n",
       " label\n",
       " churned     74.109416\n",
       " retained    75.014702\n",
       " Name: km_per_drive, dtype: float64,\n",
       " label\n",
       " churned     697.541999\n",
       " retained    289.549333\n",
       " Name: km_per_driving_day, dtype: float64,\n",
       " label\n",
       " churned     10.0000\n",
       " retained     4.0625\n",
       " Name: drives_per_driving_day, dtype: float64,\n",
       " label     device \n",
       " churned   iPhone     1645\n",
       "           Android     891\n",
       " retained  iPhone     7580\n",
       "           Android    4183\n",
       " Name: count, dtype: int64,\n",
       " label     device \n",
       " churned   iPhone     64.865931\n",
       "           Android    35.134069\n",
       " retained  iPhone     64.439344\n",
       "           Android    35.560656\n",
       " Name: proportion, dtype: float64)"
      ]
     },
     "execution_count": 41,
     "metadata": {},
     "output_type": "execute_result"
    }
   ],
   "source": [
    "(head_data, missing_values, null_summary, non_null_summary,\n",
    " null_by_device, null_percent_by_device, full_percent_by_device,\n",
    " label_counts, label_percentages, median_comparison, km_per_drive_median,\n",
    " km_per_day_median, drives_per_day_median, device_counts_by_label, device_percent_by_label)"
   ]
  }
 ],
 "metadata": {
  "kernelspec": {
   "display_name": "Python 3 (ipykernel)",
   "language": "python",
   "name": "python3"
  },
  "language_info": {
   "codemirror_mode": {
    "name": "ipython",
    "version": 3
   },
   "file_extension": ".py",
   "mimetype": "text/x-python",
   "name": "python",
   "nbconvert_exporter": "python",
   "pygments_lexer": "ipython3",
   "version": "3.11.9"
  }
 },
 "nbformat": 4,
 "nbformat_minor": 5
}
